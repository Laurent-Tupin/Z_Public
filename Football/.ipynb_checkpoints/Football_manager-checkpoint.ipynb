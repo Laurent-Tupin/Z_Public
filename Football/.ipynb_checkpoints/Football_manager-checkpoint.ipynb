{
 "cells": [
  {
   "cell_type": "code",
   "execution_count": 1,
   "metadata": {},
   "outputs": [],
   "source": [
    "import pandas as pd\n",
    "from statistics import mean\n",
    "import random"
   ]
  },
  {
   "cell_type": "code",
   "execution_count": 2,
   "metadata": {},
   "outputs": [],
   "source": [
    "d_players= {'Lorentz':9,\n",
    "            'Randino':7,\n",
    "            'Harley':6,\n",
    "            'Adriano':6,\n",
    "            'Zamami':6,\n",
    "            'Mateo':5,\n",
    "            'Julio':5,\n",
    "            'Karonito':4,\n",
    "            'Rolo':4,\n",
    "            'Darenito':3,\n",
    "            'Timar':2,\n",
    "            'Adam':1\n",
    "           }"
   ]
  },
  {
   "cell_type": "code",
   "execution_count": 3,
   "metadata": {},
   "outputs": [],
   "source": [
    "l_teamWhite = []\n",
    "l_teamColor = []\n",
    "int_WhiteScore = 0\n",
    "int_ColorScore = 0"
   ]
  },
  {
   "cell_type": "markdown",
   "metadata": {},
   "source": [
    "# First Player in Color team"
   ]
  },
  {
   "cell_type": "code",
   "execution_count": 4,
   "metadata": {},
   "outputs": [],
   "source": [
    "l_teamColor.append('Harley')\n",
    "int_ColorScore += d_players['Harley']\n",
    "del d_players['Harley']"
   ]
  },
  {
   "cell_type": "markdown",
   "metadata": {},
   "source": [
    "# Fill White Team with One player"
   ]
  },
  {
   "cell_type": "markdown",
   "metadata": {},
   "source": [
    "### Calculate number of player remaining"
   ]
  },
  {
   "cell_type": "code",
   "execution_count": 5,
   "metadata": {},
   "outputs": [
    {
     "name": "stdout",
     "output_type": "stream",
     "text": [
      "11\n"
     ]
    }
   ],
   "source": [
    "int_nbPlayer = len(d_players)\n",
    "print(int_nbPlayer)"
   ]
  },
  {
   "cell_type": "markdown",
   "metadata": {},
   "source": [
    "### Gap of level to catch up for White Team"
   ]
  },
  {
   "cell_type": "code",
   "execution_count": 6,
   "metadata": {},
   "outputs": [
    {
     "name": "stdout",
     "output_type": "stream",
     "text": [
      "6\n"
     ]
    }
   ],
   "source": [
    "int_gapToFillForWhite = int_ColorScore - int_WhiteScore\n",
    "print(int_gapToFillForWhite)"
   ]
  },
  {
   "cell_type": "code",
   "execution_count": 7,
   "metadata": {},
   "outputs": [
    {
     "name": "stdout",
     "output_type": "stream",
     "text": [
      "('Lorentz', 3)\n",
      "('Randino', 1)\n",
      "('Adriano', 0)\n",
      "('Zamami', 0)\n",
      "('Mateo', -1)\n",
      "('Julio', -1)\n",
      "('Karonito', -2)\n",
      "('Rolo', -2)\n",
      "('Darenito', -3)\n",
      "('Timar', -4)\n",
      "('Adam', -5)\n"
     ]
    }
   ],
   "source": [
    "d_players_level = {k:(v-int_gapToFillForWhite) for (k,v) in d_players.items()} \n",
    "for play in d_players_level.items():\n",
    "    print(play)"
   ]
  },
  {
   "cell_type": "markdown",
   "metadata": {},
   "source": [
    "### Getting the right player for the White Team "
   ]
  },
  {
   "cell_type": "code",
   "execution_count": 8,
   "metadata": {},
   "outputs": [
    {
     "name": "stdout",
     "output_type": "stream",
     "text": [
      "('Lorentz', 3)\n",
      "('Randino', 1)\n",
      "('Adriano', 0)\n",
      "('Zamami', 0)\n",
      "('Mateo', 1)\n",
      "('Julio', 1)\n",
      "('Karonito', 2)\n",
      "('Rolo', 2)\n",
      "('Darenito', 3)\n",
      "('Timar', 4)\n",
      "('Adam', 5)\n"
     ]
    }
   ],
   "source": [
    "d_players_level_abs = {k:abs(v) for (k,v) in d_players_level.items()}\n",
    "for play in d_players_level_abs.items():\n",
    "    print(play)"
   ]
  },
  {
   "cell_type": "code",
   "execution_count": 9,
   "metadata": {},
   "outputs": [
    {
     "name": "stdout",
     "output_type": "stream",
     "text": [
      "Adam\n"
     ]
    }
   ],
   "source": [
    "str_player = min(d_players_level, key = d_players_level.get)\n",
    "print(str_player)"
   ]
  },
  {
   "cell_type": "markdown",
   "metadata": {},
   "source": [
    "### Add some Randomness  "
   ]
  },
  {
   "cell_type": "code",
   "execution_count": 10,
   "metadata": {},
   "outputs": [
    {
     "name": "stdout",
     "output_type": "stream",
     "text": [
      "[4, 24, -19, 46, 30, 31, -34, -41, 38, 25, -25]\n"
     ]
    }
   ],
   "source": [
    "l_randomlist = random.sample(range(-50, 50), int_nbPlayer)    \n",
    "print(l_randomlist)"
   ]
  },
  {
   "cell_type": "code",
   "execution_count": 11,
   "metadata": {},
   "outputs": [
    {
     "name": "stdout",
     "output_type": "stream",
     "text": [
      "('Lorentz', 7)\n",
      "('Randino', 25)\n",
      "('Adriano', 19)\n",
      "('Zamami', 46)\n",
      "('Mateo', 29)\n",
      "('Julio', 30)\n",
      "('Karonito', 36)\n",
      "('Rolo', 43)\n",
      "('Darenito', 35)\n",
      "('Timar', 21)\n",
      "('Adam', 30)\n"
     ]
    }
   ],
   "source": [
    "d_playersLevel_Random = d_players_level.copy()\n",
    "l_players_level = list(d_players_level.values())\n",
    "l_players_name = list(d_players_level.keys())\n",
    "\n",
    "for i in range(len(d_players_level)):\n",
    "    str_player = l_players_name[i]\n",
    "    int_level = l_players_level[i]\n",
    "    int_randomNum = l_randomlist[i]\n",
    "    int_levelRandom = int_level + int_randomNum\n",
    "    # Change the value of Player by giving some randomness\n",
    "    d_playersLevel_Random[str_player] = abs(int_levelRandom)\n",
    "for play in d_playersLevel_Random.items():\n",
    "    print(play)    "
   ]
  },
  {
   "cell_type": "markdown",
   "metadata": {},
   "source": [
    "### Getting the right player for the White Team "
   ]
  },
  {
   "cell_type": "code",
   "execution_count": 12,
   "metadata": {},
   "outputs": [
    {
     "name": "stdout",
     "output_type": "stream",
     "text": [
      "Lorentz\n"
     ]
    }
   ],
   "source": [
    "str_player = min(d_playersLevel_Random, key = d_playersLevel_Random.get)\n",
    "print(str_player)"
   ]
  },
  {
   "cell_type": "markdown",
   "metadata": {},
   "source": [
    "### Adding the Player to the White Team "
   ]
  },
  {
   "cell_type": "code",
   "execution_count": 13,
   "metadata": {},
   "outputs": [],
   "source": [
    "l_teamWhite.append(str_player)\n",
    "int_WhiteScore += d_players[str_player]\n",
    "del d_players[str_player]"
   ]
  },
  {
   "cell_type": "code",
   "execution_count": 14,
   "metadata": {},
   "outputs": [
    {
     "name": "stdout",
     "output_type": "stream",
     "text": [
      "['Lorentz']\n",
      "9\n"
     ]
    }
   ],
   "source": [
    "print(l_teamWhite)\n",
    "print(int_WhiteScore)"
   ]
  },
  {
   "cell_type": "markdown",
   "metadata": {},
   "source": [
    "# Add a second player to the color Team"
   ]
  },
  {
   "cell_type": "markdown",
   "metadata": {},
   "source": [
    "The logic is different here as it is a new player, so we dont want the team to be balanced.\n",
    "\n",
    "   However, if white team is stronger, we will put more chance on strong player\n",
    "   \n",
    "   If white team is weaker,  we will put more chance on weak player "
   ]
  },
  {
   "cell_type": "markdown",
   "metadata": {},
   "source": [
    "### Which team is stronger ?"
   ]
  },
  {
   "cell_type": "code",
   "execution_count": 15,
   "metadata": {},
   "outputs": [
    {
     "name": "stdout",
     "output_type": "stream",
     "text": [
      "3\n"
     ]
    }
   ],
   "source": [
    "int_whiteAdvantage = int_WhiteScore - int_ColorScore\n",
    "print(int_whiteAdvantage)"
   ]
  },
  {
   "cell_type": "code",
   "execution_count": 16,
   "metadata": {},
   "outputs": [
    {
     "name": "stdout",
     "output_type": "stream",
     "text": [
      "('Randino', 7)\n",
      "('Adriano', 6)\n",
      "('Zamami', 6)\n",
      "('Mateo', 5)\n",
      "('Julio', 5)\n",
      "('Karonito', 4)\n",
      "('Rolo', 4)\n",
      "('Darenito', 3)\n",
      "('Timar', 2)\n",
      "('Adam', 1)\n"
     ]
    }
   ],
   "source": [
    "# Reminder\n",
    "for play in d_players.items():\n",
    "    print(play)"
   ]
  },
  {
   "cell_type": "code",
   "execution_count": 17,
   "metadata": {},
   "outputs": [
    {
     "name": "stdout",
     "output_type": "stream",
     "text": [
      "4.3\n"
     ]
    }
   ],
   "source": [
    "# Average level or remaining player\n",
    "flt_avgLevelPlayers = mean(d_players.values())\n",
    "print(flt_avgLevelPlayers)"
   ]
  },
  {
   "cell_type": "code",
   "execution_count": 18,
   "metadata": {},
   "outputs": [
    {
     "name": "stdout",
     "output_type": "stream",
     "text": [
      "7.3\n"
     ]
    }
   ],
   "source": [
    "# Level wanted for a new player\n",
    "flt_levelWanted = flt_avgLevelPlayers + int_whiteAdvantage\n",
    "print(flt_levelWanted)"
   ]
  },
  {
   "cell_type": "code",
   "execution_count": 19,
   "metadata": {},
   "outputs": [
    {
     "name": "stdout",
     "output_type": "stream",
     "text": [
      "('Randino', 0.3)\n",
      "('Adriano', 1.3)\n",
      "('Zamami', 1.3)\n",
      "('Mateo', 2.3)\n",
      "('Julio', 2.3)\n",
      "('Karonito', 3.3)\n",
      "('Rolo', 3.3)\n",
      "('Darenito', 4.3)\n",
      "('Timar', 5.3)\n",
      "('Adam', 6.3)\n"
     ]
    }
   ],
   "source": [
    "# We want to give more chance on the player closer to the Level Wanted\n",
    "d_players_level = {k : abs(round(v-flt_levelWanted, 1)) for (k,v) in d_players.items()} \n",
    "for play in d_players_level.items():\n",
    "    print(play)"
   ]
  },
  {
   "cell_type": "code",
   "execution_count": 20,
   "metadata": {},
   "outputs": [
    {
     "name": "stdout",
     "output_type": "stream",
     "text": [
      "Randino\n"
     ]
    }
   ],
   "source": [
    "str_player = min(d_players_level, key = d_players_level.get)\n",
    "print(str_player)"
   ]
  },
  {
   "cell_type": "markdown",
   "metadata": {},
   "source": [
    "### Add some Randomness"
   ]
  },
  {
   "cell_type": "code",
   "execution_count": 21,
   "metadata": {},
   "outputs": [
    {
     "name": "stdout",
     "output_type": "stream",
     "text": [
      "[-26, 23, -7, 30, 11, -13, -20, 47, -23, -14]\n"
     ]
    }
   ],
   "source": [
    "int_nbPlayer = len(d_players)\n",
    "l_randomlist = random.sample(range(-50, 50), int_nbPlayer)    \n",
    "print(l_randomlist)"
   ]
  },
  {
   "cell_type": "code",
   "execution_count": 22,
   "metadata": {},
   "outputs": [
    {
     "name": "stdout",
     "output_type": "stream",
     "text": [
      "('Randino', 25.7)\n",
      "('Adriano', 24.3)\n",
      "('Zamami', 5.7)\n",
      "('Mateo', 32.3)\n",
      "('Julio', 13.3)\n",
      "('Karonito', 9.7)\n",
      "('Rolo', 16.7)\n",
      "('Darenito', 51.3)\n",
      "('Timar', 17.7)\n",
      "('Adam', 7.7)\n"
     ]
    }
   ],
   "source": [
    "d_playersLevel_Random = d_players_level.copy()\n",
    "l_players_level = list(d_players_level.values())\n",
    "l_players_name = list(d_players_level.keys())\n",
    "\n",
    "for i in range(len(d_players_level)):\n",
    "    str_player = l_players_name[i]\n",
    "    int_level = l_players_level[i]\n",
    "    int_randomNum = l_randomlist[i]\n",
    "    int_levelRandom = int_level + int_randomNum\n",
    "    # Change the value of Player by giving some randomness\n",
    "    d_playersLevel_Random[str_player] = abs(int_levelRandom)\n",
    "for play in d_playersLevel_Random.items():\n",
    "    print(play)   "
   ]
  },
  {
   "cell_type": "code",
   "execution_count": 23,
   "metadata": {},
   "outputs": [
    {
     "name": "stdout",
     "output_type": "stream",
     "text": [
      "Zamami\n"
     ]
    }
   ],
   "source": [
    "str_player = min(d_playersLevel_Random, key = d_playersLevel_Random.get)\n",
    "print(str_player)"
   ]
  },
  {
   "cell_type": "code",
   "execution_count": 24,
   "metadata": {},
   "outputs": [],
   "source": [
    "l_teamColor.append(str_player)\n",
    "int_ColorScore += d_players[str_player]\n",
    "del d_players[str_player]"
   ]
  },
  {
   "cell_type": "code",
   "execution_count": 25,
   "metadata": {},
   "outputs": [
    {
     "name": "stdout",
     "output_type": "stream",
     "text": [
      "['Harley', 'Zamami']\n",
      "12\n"
     ]
    }
   ],
   "source": [
    "print(l_teamColor)\n",
    "print(int_ColorScore)"
   ]
  },
  {
   "cell_type": "code",
   "execution_count": null,
   "metadata": {},
   "outputs": [],
   "source": []
  },
  {
   "cell_type": "code",
   "execution_count": null,
   "metadata": {},
   "outputs": [],
   "source": []
  },
  {
   "cell_type": "markdown",
   "metadata": {},
   "source": [
    "# Lets fill the whole teams with a loop"
   ]
  },
  {
   "cell_type": "code",
   "execution_count": 26,
   "metadata": {},
   "outputs": [],
   "source": [
    "# PARAM\n",
    "l_teamWhite = []\n",
    "l_teamColor = []\n",
    "int_WhiteScore = 0\n",
    "int_ColorScore = 0\n",
    "d_players= {'Lorentz':9,\n",
    "            'Randino':7,\n",
    "            'Harley':6,\n",
    "            'Adriano':6,\n",
    "            'Zamami':6,\n",
    "            'Mateo':5,\n",
    "            'Julio':5,\n",
    "            'Karonito':4,\n",
    "            'Rolo':4,\n",
    "            'Darenito':3,\n",
    "            'Timar':2,\n",
    "            'Adam':1\n",
    "           }"
   ]
  },
  {
   "cell_type": "code",
   "execution_count": 27,
   "metadata": {},
   "outputs": [],
   "source": [
    "# First Player in Color team\n",
    "l_teamColor.append('Harley')\n",
    "int_ColorScore += d_players['Harley']\n",
    "del d_players['Harley']"
   ]
  },
  {
   "cell_type": "code",
   "execution_count": 28,
   "metadata": {},
   "outputs": [],
   "source": [
    "def fDict_addListToDictValues(d_players, l_random):\n",
    "    d_players_Random = d_players.copy()\n",
    "    l_players_level = list(d_players.values())\n",
    "    l_players_name = list(d_players.keys())\n",
    "    \n",
    "    for i in range(len(d_players)):\n",
    "        str_player = l_players_name[i]\n",
    "        int_level = l_players_level[i]\n",
    "        int_randomNum = l_random[i]\n",
    "        int_levelRandom = round(int_level + int_randomNum, 1)\n",
    "        # Change the value of Player by giving some randomness\n",
    "        d_players_Random[str_player] = abs(int_levelRandom)\n",
    "    return d_players_Random"
   ]
  },
  {
   "cell_type": "code",
   "execution_count": 29,
   "metadata": {},
   "outputs": [
    {
     "name": "stdout",
     "output_type": "stream",
     "text": [
      " White team...\n",
      "   White Player chosen:  Julio \n",
      "\n",
      " color team...\n",
      "   Color Player chosen:  Darenito \n",
      "\n",
      " White team...\n",
      "   White Player chosen:  Karonito \n",
      "\n",
      " color team...\n",
      "   Color Player chosen:  Adriano \n",
      "\n",
      " White team...\n",
      "   White Player chosen:  Mateo \n",
      "\n",
      " color team...\n",
      "   Color Player chosen:  Rolo \n",
      "\n",
      " White team...\n",
      "   White Player chosen:  Zamami \n",
      "\n",
      " color team...\n",
      "   Color Player chosen:  Randino \n",
      "\n",
      " White team...\n",
      "   White Player chosen:  Lorentz \n",
      "\n",
      " color team...\n",
      "   Color Player chosen:  Timar \n",
      "\n",
      " White team...\n",
      "   White Player chosen:  Adam \n",
      "\n"
     ]
    }
   ],
   "source": [
    "# Fill the team in a loop\n",
    "for i_numPlayer in range(1, len(d_players) + 1):\n",
    "    int_nbPlayer = len(d_players)\n",
    "    l_randomlist = random.sample(range(0, int_nbPlayer), int_nbPlayer)\n",
    "    #print('Player in teams: ', i_numPlayer, '   Remaining player: ', int_nbPlayer)\n",
    "    \n",
    "    # If White Team (odd number)\n",
    "    if int_nbPlayer % 2 != 0:\n",
    "        print(' White team...')\n",
    "        int_gapToFillForWhite = int_ColorScore - int_WhiteScore\n",
    "        d_players_level = {k : abs(v-int_gapToFillForWhite) for (k,v) in d_players.items()}\n",
    "        d_players_level = {k : abs(v-int_gapToFillForWhite) * i_numPlayer for (k,v) in d_players.items()}\n",
    "        \n",
    "        ## Add some randomness\n",
    "        d_playersLevel_Random = fDict_addListToDictValues(d_players_level, l_randomlist)\n",
    "        # Get the right player\n",
    "        str_player = min(d_playersLevel_Random, key = d_playersLevel_Random.get)\n",
    "        print('   White Player chosen: ', str_player, '\\n')\n",
    "        # Add the player to white team\n",
    "        l_teamWhite.append(str_player)\n",
    "        int_WhiteScore += d_players[str_player]\n",
    "        del d_players[str_player]\n",
    "    \n",
    "    # If color Team (even number)\n",
    "    else:\n",
    "        print(' color team...')\n",
    "        int_whiteAdvantage = int_WhiteScore - int_ColorScore\n",
    "        flt_avgLevelPlayers = round(mean(d_players.values()), 1)\n",
    "        flt_levelWanted = round(flt_avgLevelPlayers + int_whiteAdvantage, 2)\n",
    "        d_players_level = {k : round(abs(v-flt_levelWanted), 1)  for (k,v) in d_players.items()} \n",
    "        d_players_level = {k : round(abs(v-flt_levelWanted) * i_numPlayer, 1)  for (k,v) in d_players.items()} \n",
    "        \n",
    "        ## Add some randomness\n",
    "        d_playersLevel_Random = fDict_addListToDictValues(d_players_level, l_randomlist)\n",
    "        # Get the right player\n",
    "        str_player = min(d_playersLevel_Random, key = d_playersLevel_Random.get)\n",
    "        print('   Color Player chosen: ', str_player, '\\n')\n",
    "        # Add the player to white team\n",
    "        l_teamColor.append(str_player)\n",
    "        int_ColorScore += d_players[str_player]\n",
    "        del d_players[str_player]\n",
    "        \n",
    "        "
   ]
  },
  {
   "cell_type": "code",
   "execution_count": 30,
   "metadata": {},
   "outputs": [
    {
     "name": "stdout",
     "output_type": "stream",
     "text": [
      "  * White team: ['Julio', 'Karonito', 'Mateo', 'Zamami', 'Lorentz', 'Adam']\n",
      "  * White score: 30 \n",
      "\n",
      "\n",
      "  * Color team: ['Harley', 'Darenito', 'Adriano', 'Rolo', 'Randino', 'Timar']\n",
      "  * Color score: 28 \n",
      "\n",
      "\n"
     ]
    }
   ],
   "source": [
    "print('  * White team:', l_teamWhite)\n",
    "print('  * White score:', int_WhiteScore, '\\n\\n')\n",
    "print('  * Color team:', l_teamColor)\n",
    "print('  * Color score:', int_ColorScore, '\\n\\n')"
   ]
  },
  {
   "cell_type": "markdown",
   "metadata": {},
   "source": [
    "# Encapsulate in functions so we can generate as many scenario as we wish"
   ]
  },
  {
   "cell_type": "code",
   "execution_count": 37,
   "metadata": {},
   "outputs": [],
   "source": [
    "def f_BuildTeams(d_players, bl_print = False):\n",
    "    # PARAM\n",
    "    l_teamWhite = []\n",
    "    l_teamColor = []\n",
    "    int_WhiteScore = 0\n",
    "    int_ColorScore = 0\n",
    "    \n",
    "    # First Player in Color team\n",
    "    l_teamColor.append('Harley')\n",
    "    int_ColorScore += d_players['Harley']\n",
    "    del d_players['Harley']\n",
    "    \n",
    "    # Fill the team in a loop\n",
    "    for i_numPlayer in range(1, len(d_players) + 1):\n",
    "        int_nbPlayer = len(d_players)\n",
    "        l_randomlist = random.sample(range(0, int_nbPlayer), int_nbPlayer)\n",
    "        #print('Player in teams: ', i_numPlayer, '   Remaining player: ', int_nbPlayer)\n",
    "\n",
    "        # If White Team (odd number)\n",
    "        if int_nbPlayer % 2 != 0:\n",
    "            if bl_print: print(' White team...')\n",
    "            int_gapToFillForWhite = int_ColorScore - int_WhiteScore\n",
    "            d_players_level = {k : abs(v-int_gapToFillForWhite) for (k,v) in d_players.items()}\n",
    "            d_players_level = {k : abs(v-int_gapToFillForWhite) * i_numPlayer for (k,v) in d_players.items()}\n",
    "\n",
    "            ## Add some randomness\n",
    "            d_playersLevel_Random = fDict_addListToDictValues(d_players_level, l_randomlist)\n",
    "            # Get the right player\n",
    "            str_player = min(d_playersLevel_Random, key = d_playersLevel_Random.get)\n",
    "            if bl_print: print('   White Player chosen: ', str_player, '\\n')\n",
    "            # Add the player to white team\n",
    "            l_teamWhite.append(str_player)\n",
    "            int_WhiteScore += d_players[str_player]\n",
    "            del d_players[str_player]\n",
    "\n",
    "        # If color Team (even number)\n",
    "        else:\n",
    "            if bl_print: print(' color team...')\n",
    "            int_whiteAdvantage = int_WhiteScore - int_ColorScore\n",
    "            flt_avgLevelPlayers = round(mean(d_players.values()), 1)\n",
    "            flt_levelWanted = round(flt_avgLevelPlayers + int_whiteAdvantage, 2)\n",
    "            d_players_level = {k : round(abs(v-flt_levelWanted), 1)  for (k,v) in d_players.items()} \n",
    "            d_players_level = {k : round(abs(v-flt_levelWanted) * i_numPlayer, 1)  for (k,v) in d_players.items()} \n",
    "\n",
    "            ## Add some randomness\n",
    "            d_playersLevel_Random = fDict_addListToDictValues(d_players_level, l_randomlist)\n",
    "            # Get the right player\n",
    "            str_player = min(d_playersLevel_Random, key = d_playersLevel_Random.get)\n",
    "            if bl_print: print('   Color Player chosen: ', str_player, '\\n')\n",
    "            # Add the player to white team\n",
    "            l_teamColor.append(str_player)\n",
    "            int_ColorScore += d_players[str_player]\n",
    "            del d_players[str_player]\n",
    "            \n",
    "    # Return everything\n",
    "    return l_teamWhite, int_WhiteScore, l_teamColor, int_ColorScore    "
   ]
  },
  {
   "cell_type": "code",
   "execution_count": 52,
   "metadata": {},
   "outputs": [
    {
     "name": "stdout",
     "output_type": "stream",
     "text": [
      "  * White team: ['Zamami', 'Mateo', 'Rolo', 'Adriano', 'Randino', 'Adam']\n",
      "  * White score: 29 \n",
      "\n",
      "\n",
      "  * Color team: ['Harley', 'Timar', 'Karonito', 'Julio', 'Lorentz', 'Darenito']\n",
      "  * Color score: 29 \n",
      "\n",
      "\n"
     ]
    }
   ],
   "source": [
    "d_players= {'Harley':9,\n",
    "            'Randino':7,\n",
    "            'Lorentz':6,\n",
    "            'Adriano':6,\n",
    "            'Zamami':6,\n",
    "            'Mateo':5,\n",
    "            'Julio':5,\n",
    "            'Karonito':4,\n",
    "            'Rolo':4,\n",
    "            'Darenito':3,\n",
    "            'Timar':2,\n",
    "            'Adam':1\n",
    "           }\n",
    "\n",
    "\n",
    "l_teamWhite, int_WhiteScore, l_teamColor, int_ColorScore = f_BuildTeams(d_players, bl_print = False)\n",
    "print('  * White team:', l_teamWhite)\n",
    "print('  * White score:', int_WhiteScore, '\\n\\n')\n",
    "print('  * Color team:', l_teamColor)\n",
    "print('  * Color score:', int_ColorScore, '\\n\\n')"
   ]
  },
  {
   "cell_type": "code",
   "execution_count": null,
   "metadata": {},
   "outputs": [],
   "source": []
  },
  {
   "cell_type": "code",
   "execution_count": null,
   "metadata": {},
   "outputs": [],
   "source": []
  }
 ],
 "metadata": {
  "kernelspec": {
   "display_name": "Python 3",
   "language": "python",
   "name": "python3"
  },
  "language_info": {
   "codemirror_mode": {
    "name": "ipython",
    "version": 3
   },
   "file_extension": ".py",
   "mimetype": "text/x-python",
   "name": "python",
   "nbconvert_exporter": "python",
   "pygments_lexer": "ipython3",
   "version": "3.8.3"
  }
 },
 "nbformat": 4,
 "nbformat_minor": 4
}
